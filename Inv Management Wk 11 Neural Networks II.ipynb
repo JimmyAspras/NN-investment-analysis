{
 "cells": [
  {
   "cell_type": "code",
   "execution_count": 1,
   "metadata": {},
   "outputs": [],
   "source": [
    "#Please  construct  a  new  dataset  by  either  adding  two  independent  variables  or  removing  two independent\n",
    "#variables  from  finalsample.dta  dataset.  If  you  choose  to  add  two  independent variables, you could add \n",
    "#any two independent variables that you think help explain stock returns. If  you  choose  to  remove  two  \n",
    "#independent  variables,  you  could  remove  any  two  independent variables that already exist in the \n",
    "#finalsample.dta dataset.\n",
    "import numpy as np\n",
    "import pandas as pd\n",
    "import matplotlib.pyplot as plt\n",
    "import matplotlib.dates as dates\n",
    "import statsmodels.api as sm\n",
    "from tensorflow.keras.models import Sequential\n",
    "from tensorflow.keras.layers import Dense\n",
    "from sklearn.model_selection import TimeSeriesSplit\n",
    "from tensorflow.keras.wrappers.scikit_learn import KerasRegressor\n",
    "from sklearn.inspection import permutation_importance\n",
    "from sklearn.ensemble import RandomForestRegressor\n",
    "from sklearn.ensemble import ExtraTreesRegressor\n",
    "from sklearn.experimental import enable_hist_gradient_boosting\n",
    "from sklearn.ensemble import HistGradientBoostingRegressor\n",
    "from sklearn.linear_model import Lasso\n",
    "from sklearn.linear_model import LassoCV\n",
    "plt.rcParams['figure.figsize'] = [20, 15]"
   ]
  },
  {
   "cell_type": "code",
   "execution_count": 2,
   "metadata": {},
   "outputs": [
    {
     "data": {
      "text/plain": [
       "Index(['gvkey', 'datadate', 'sic_2', 'lagdate', 'lagRet2', 'lagVOL2',\n",
       "       'lagPrice2', 'lagMV2', 'lagShareturnover2', 'lagRet2_sic', 'lagRet12',\n",
       "       'lagVOL12', 'lagShareturnover12', 'lagRet12_std', 'lagRet12_min',\n",
       "       'lagRet12_max', 'lagRet12_sic', 'lagdatadate', 'atq', 'ceqq', 'cheq',\n",
       "       'dlttq', 'epspiq', 'saleq', 'dvpspq', 'sp500_ret_d', 'nasdaq_ret_d',\n",
       "       'r2000_ret_d', 'dollar_ret_d', 'VIX', 'yield_3m', 'yield_10y',\n",
       "       'gdp_growth', 'Bull_ave', 'Bull_Bear', 'ret', 'debt', 'cash', 'sale',\n",
       "       'BM', 'PE', 'div_p', 'loglagPrice2', 'loglagVOL12', 'loglagMV2',\n",
       "       'logatq', 'loglagVOL2'],\n",
       "      dtype='object')"
      ]
     },
     "execution_count": 2,
     "metadata": {},
     "output_type": "execute_result"
    }
   ],
   "source": [
    "nndata=pd.read_stata('/Users/jimmyaspras/Downloads/finalsample.dta')\n",
    "nndata.columns"
   ]
  },
  {
   "cell_type": "code",
   "execution_count": 3,
   "metadata": {},
   "outputs": [
    {
     "name": "stderr",
     "output_type": "stream",
     "text": [
      "<ipython-input-3-e895412330a8>:3: SettingWithCopyWarning: \n",
      "A value is trying to be set on a copy of a slice from a DataFrame.\n",
      "Try using .loc[row_indexer,col_indexer] = value instead\n",
      "\n",
      "See the caveats in the documentation: https://pandas.pydata.org/pandas-docs/stable/user_guide/indexing.html#returning-a-view-versus-a-copy\n",
      "  nndata1['Year']=nndata1['datadate'].dt.year\n",
      "<ipython-input-3-e895412330a8>:4: SettingWithCopyWarning: \n",
      "A value is trying to be set on a copy of a slice from a DataFrame.\n",
      "Try using .loc[row_indexer,col_indexer] = value instead\n",
      "\n",
      "See the caveats in the documentation: https://pandas.pydata.org/pandas-docs/stable/user_guide/indexing.html#returning-a-view-versus-a-copy\n",
      "  nndata1['Month']=nndata1['datadate'].dt.month\n"
     ]
    },
    {
     "data": {
      "text/html": [
       "<div>\n",
       "<style scoped>\n",
       "    .dataframe tbody tr th:only-of-type {\n",
       "        vertical-align: middle;\n",
       "    }\n",
       "\n",
       "    .dataframe tbody tr th {\n",
       "        vertical-align: top;\n",
       "    }\n",
       "\n",
       "    .dataframe thead th {\n",
       "        text-align: right;\n",
       "    }\n",
       "</style>\n",
       "<table border=\"1\" class=\"dataframe\">\n",
       "  <thead>\n",
       "    <tr style=\"text-align: right;\">\n",
       "      <th></th>\n",
       "      <th></th>\n",
       "      <th>sic_2</th>\n",
       "      <th>lagdate</th>\n",
       "      <th>lagRet2</th>\n",
       "      <th>lagVOL2</th>\n",
       "      <th>lagPrice2</th>\n",
       "      <th>lagMV2</th>\n",
       "      <th>lagShareturnover2</th>\n",
       "      <th>lagRet2_sic</th>\n",
       "      <th>lagRet12</th>\n",
       "      <th>lagVOL12</th>\n",
       "      <th>...</th>\n",
       "      <th>BM</th>\n",
       "      <th>PE</th>\n",
       "      <th>div_p</th>\n",
       "      <th>loglagPrice2</th>\n",
       "      <th>loglagVOL12</th>\n",
       "      <th>loglagMV2</th>\n",
       "      <th>logatq</th>\n",
       "      <th>loglagVOL2</th>\n",
       "      <th>Year</th>\n",
       "      <th>Month</th>\n",
       "    </tr>\n",
       "    <tr>\n",
       "      <th>gvkey</th>\n",
       "      <th>datadate</th>\n",
       "      <th></th>\n",
       "      <th></th>\n",
       "      <th></th>\n",
       "      <th></th>\n",
       "      <th></th>\n",
       "      <th></th>\n",
       "      <th></th>\n",
       "      <th></th>\n",
       "      <th></th>\n",
       "      <th></th>\n",
       "      <th></th>\n",
       "      <th></th>\n",
       "      <th></th>\n",
       "      <th></th>\n",
       "      <th></th>\n",
       "      <th></th>\n",
       "      <th></th>\n",
       "      <th></th>\n",
       "      <th></th>\n",
       "      <th></th>\n",
       "      <th></th>\n",
       "    </tr>\n",
       "  </thead>\n",
       "  <tbody>\n",
       "    <tr>\n",
       "      <th>1004.0</th>\n",
       "      <th>2001-04-30</th>\n",
       "      <td>50.0</td>\n",
       "      <td>2001-02-28</td>\n",
       "      <td>-0.104674</td>\n",
       "      <td>1129800.0</td>\n",
       "      <td>13.600</td>\n",
       "      <td>366.27520</td>\n",
       "      <td>0.041950</td>\n",
       "      <td>-0.048423</td>\n",
       "      <td>0.052613</td>\n",
       "      <td>1481250.0</td>\n",
       "      <td>...</td>\n",
       "      <td>0.931715</td>\n",
       "      <td>85.000000</td>\n",
       "      <td>0.006250</td>\n",
       "      <td>2.610070</td>\n",
       "      <td>14.208397</td>\n",
       "      <td>5.903385</td>\n",
       "      <td>6.650203</td>\n",
       "      <td>13.937551</td>\n",
       "      <td>2001</td>\n",
       "      <td>4</td>\n",
       "    </tr>\n",
       "    <tr>\n",
       "      <th>30915.0</th>\n",
       "      <th>2001-04-30</th>\n",
       "      <td>33.0</td>\n",
       "      <td>2001-02-28</td>\n",
       "      <td>-0.050095</td>\n",
       "      <td>63300.0</td>\n",
       "      <td>10.050</td>\n",
       "      <td>91.80675</td>\n",
       "      <td>0.006929</td>\n",
       "      <td>0.004113</td>\n",
       "      <td>-0.018221</td>\n",
       "      <td>239500.0</td>\n",
       "      <td>...</td>\n",
       "      <td>1.624488</td>\n",
       "      <td>37.222222</td>\n",
       "      <td>0.000000</td>\n",
       "      <td>2.307573</td>\n",
       "      <td>12.386309</td>\n",
       "      <td>4.519686</td>\n",
       "      <td>5.489338</td>\n",
       "      <td>11.055641</td>\n",
       "      <td>2001</td>\n",
       "      <td>4</td>\n",
       "    </tr>\n",
       "    <tr>\n",
       "      <th>31170.0</th>\n",
       "      <th>2001-04-30</th>\n",
       "      <td>33.0</td>\n",
       "      <td>2001-02-28</td>\n",
       "      <td>-0.079365</td>\n",
       "      <td>296200.0</td>\n",
       "      <td>7.250</td>\n",
       "      <td>44.02925</td>\n",
       "      <td>0.048773</td>\n",
       "      <td>0.004113</td>\n",
       "      <td>-0.005784</td>\n",
       "      <td>345900.0</td>\n",
       "      <td>...</td>\n",
       "      <td>1.076057</td>\n",
       "      <td>34.523810</td>\n",
       "      <td>0.000000</td>\n",
       "      <td>1.981001</td>\n",
       "      <td>12.753905</td>\n",
       "      <td>3.784854</td>\n",
       "      <td>4.315018</td>\n",
       "      <td>12.598790</td>\n",
       "      <td>2001</td>\n",
       "      <td>4</td>\n",
       "    </tr>\n",
       "    <tr>\n",
       "      <th>31600.0</th>\n",
       "      <th>2001-04-30</th>\n",
       "      <td>33.0</td>\n",
       "      <td>2001-02-28</td>\n",
       "      <td>-0.035294</td>\n",
       "      <td>1058400.0</td>\n",
       "      <td>5.125</td>\n",
       "      <td>84.70600</td>\n",
       "      <td>0.064037</td>\n",
       "      <td>0.004113</td>\n",
       "      <td>0.078186</td>\n",
       "      <td>1158450.0</td>\n",
       "      <td>...</td>\n",
       "      <td>3.812655</td>\n",
       "      <td>36.607143</td>\n",
       "      <td>0.009756</td>\n",
       "      <td>1.634131</td>\n",
       "      <td>13.962593</td>\n",
       "      <td>4.439186</td>\n",
       "      <td>6.527946</td>\n",
       "      <td>13.872269</td>\n",
       "      <td>2001</td>\n",
       "      <td>4</td>\n",
       "    </tr>\n",
       "    <tr>\n",
       "      <th>61635.0</th>\n",
       "      <th>2001-04-30</th>\n",
       "      <td>33.0</td>\n",
       "      <td>2001-02-28</td>\n",
       "      <td>0.044444</td>\n",
       "      <td>201200.0</td>\n",
       "      <td>11.750</td>\n",
       "      <td>76.35150</td>\n",
       "      <td>0.030963</td>\n",
       "      <td>0.004113</td>\n",
       "      <td>0.318682</td>\n",
       "      <td>341450.0</td>\n",
       "      <td>...</td>\n",
       "      <td>1.379685</td>\n",
       "      <td>28.658537</td>\n",
       "      <td>0.000000</td>\n",
       "      <td>2.463853</td>\n",
       "      <td>12.740957</td>\n",
       "      <td>4.335348</td>\n",
       "      <td>5.667520</td>\n",
       "      <td>12.212055</td>\n",
       "      <td>2001</td>\n",
       "      <td>4</td>\n",
       "    </tr>\n",
       "  </tbody>\n",
       "</table>\n",
       "<p>5 rows × 47 columns</p>\n",
       "</div>"
      ],
      "text/plain": [
       "                    sic_2    lagdate   lagRet2    lagVOL2  lagPrice2  \\\n",
       "gvkey   datadate                                                       \n",
       "1004.0  2001-04-30   50.0 2001-02-28 -0.104674  1129800.0     13.600   \n",
       "30915.0 2001-04-30   33.0 2001-02-28 -0.050095    63300.0     10.050   \n",
       "31170.0 2001-04-30   33.0 2001-02-28 -0.079365   296200.0      7.250   \n",
       "31600.0 2001-04-30   33.0 2001-02-28 -0.035294  1058400.0      5.125   \n",
       "61635.0 2001-04-30   33.0 2001-02-28  0.044444   201200.0     11.750   \n",
       "\n",
       "                       lagMV2  lagShareturnover2  lagRet2_sic  lagRet12  \\\n",
       "gvkey   datadate                                                          \n",
       "1004.0  2001-04-30  366.27520           0.041950    -0.048423  0.052613   \n",
       "30915.0 2001-04-30   91.80675           0.006929     0.004113 -0.018221   \n",
       "31170.0 2001-04-30   44.02925           0.048773     0.004113 -0.005784   \n",
       "31600.0 2001-04-30   84.70600           0.064037     0.004113  0.078186   \n",
       "61635.0 2001-04-30   76.35150           0.030963     0.004113  0.318682   \n",
       "\n",
       "                     lagVOL12  ...        BM         PE     div_p  \\\n",
       "gvkey   datadate               ...                                  \n",
       "1004.0  2001-04-30  1481250.0  ...  0.931715  85.000000  0.006250   \n",
       "30915.0 2001-04-30   239500.0  ...  1.624488  37.222222  0.000000   \n",
       "31170.0 2001-04-30   345900.0  ...  1.076057  34.523810  0.000000   \n",
       "31600.0 2001-04-30  1158450.0  ...  3.812655  36.607143  0.009756   \n",
       "61635.0 2001-04-30   341450.0  ...  1.379685  28.658537  0.000000   \n",
       "\n",
       "                    loglagPrice2  loglagVOL12 loglagMV2    logatq  loglagVOL2  \\\n",
       "gvkey   datadate                                                                \n",
       "1004.0  2001-04-30      2.610070    14.208397  5.903385  6.650203   13.937551   \n",
       "30915.0 2001-04-30      2.307573    12.386309  4.519686  5.489338   11.055641   \n",
       "31170.0 2001-04-30      1.981001    12.753905  3.784854  4.315018   12.598790   \n",
       "31600.0 2001-04-30      1.634131    13.962593  4.439186  6.527946   13.872269   \n",
       "61635.0 2001-04-30      2.463853    12.740957  4.335348  5.667520   12.212055   \n",
       "\n",
       "                    Year  Month  \n",
       "gvkey   datadate                 \n",
       "1004.0  2001-04-30  2001      4  \n",
       "30915.0 2001-04-30  2001      4  \n",
       "31170.0 2001-04-30  2001      4  \n",
       "31600.0 2001-04-30  2001      4  \n",
       "61635.0 2001-04-30  2001      4  \n",
       "\n",
       "[5 rows x 47 columns]"
      ]
     },
     "execution_count": 3,
     "metadata": {},
     "output_type": "execute_result"
    }
   ],
   "source": [
    "nndata.sort_values(by=['datadate'], inplace=True)\n",
    "nndata1=nndata[nndata['lagPrice2']>=5]#remove penny stocks\n",
    "nndata1['Year']=nndata1['datadate'].dt.year\n",
    "nndata1['Month']=nndata1['datadate'].dt.month\n",
    "#set gvkey and datadate as the index\n",
    "nndata1=nndata1.set_index(['gvkey','datadate'])\n",
    "nndata1.head()"
   ]
  },
  {
   "cell_type": "code",
   "execution_count": 4,
   "metadata": {},
   "outputs": [],
   "source": [
    "#Split  your  new  dataset  into  training  and  testing  samples.  Testing  sample  should  include  data with \n",
    "#year>=2016.\n",
    "#\n",
    "#Drop dvpspq and atq from the train/test data\n",
    "#\n",
    "train=nndata1[nndata1['Year']<2016]\n",
    "X_train=train[['sic_2', 'lagRet2', 'lagVOL2',\n",
    "       'lagPrice2', 'lagMV2', 'lagShareturnover2', 'lagRet2_sic', 'lagRet12',\n",
    "       'lagVOL12', 'lagShareturnover12', 'lagRet12_std', 'lagRet12_min',\n",
    "       'lagRet12_max', 'lagRet12_sic', 'ceqq', 'cheq',\n",
    "       'dlttq', 'epspiq', 'saleq', 'sp500_ret_d', 'nasdaq_ret_d',\n",
    "       'r2000_ret_d', 'dollar_ret_d', 'VIX', 'yield_3m', 'yield_10y',\n",
    "       'gdp_growth', 'Bull_ave', 'Bull_Bear', 'ret', 'debt', 'cash', 'sale',\n",
    "       'BM', 'PE', 'div_p', 'loglagPrice2', 'loglagVOL12', 'loglagMV2',\n",
    "       'logatq', 'loglagVOL2']]"
   ]
  },
  {
   "cell_type": "code",
   "execution_count": 5,
   "metadata": {},
   "outputs": [],
   "source": [
    "#Set return as the dependent training variable\n",
    "Y_train=train[['ret']]"
   ]
  },
  {
   "cell_type": "code",
   "execution_count": 6,
   "metadata": {},
   "outputs": [],
   "source": [
    "#Set testing independent variables\n",
    "test=nndata1[nndata1['Year']>=2016]\n",
    "X_test=test[['sic_2', 'lagRet2', 'lagVOL2',\n",
    "       'lagPrice2', 'lagMV2', 'lagShareturnover2', 'lagRet2_sic', 'lagRet12',\n",
    "       'lagVOL12', 'lagShareturnover12', 'lagRet12_std', 'lagRet12_min',\n",
    "       'lagRet12_max', 'lagRet12_sic', 'ceqq', 'cheq',\n",
    "       'dlttq', 'epspiq', 'saleq', 'sp500_ret_d', 'nasdaq_ret_d',\n",
    "       'r2000_ret_d', 'dollar_ret_d', 'VIX', 'yield_3m', 'yield_10y',\n",
    "       'gdp_growth', 'Bull_ave', 'Bull_Bear', 'ret', 'debt', 'cash', 'sale',\n",
    "       'BM', 'PE', 'div_p', 'loglagPrice2', 'loglagVOL12', 'loglagMV2',\n",
    "       'logatq', 'loglagVOL2']]"
   ]
  },
  {
   "cell_type": "code",
   "execution_count": 7,
   "metadata": {},
   "outputs": [],
   "source": [
    "#Set return as the dependent testing variable\n",
    "Y_test=test[['ret']]"
   ]
  },
  {
   "cell_type": "code",
   "execution_count": 8,
   "metadata": {},
   "outputs": [],
   "source": [
    "#Calculate avg monthly risk free return\n",
    "rf1=pd.read_excel(\"/Users/jimmyaspras/Downloads/Treasury bill.xlsx\")\n",
    "rf1['rf']=rf1['DGS3MO']/1200\n",
    "rf2=rf1[['Date','rf']].dropna()\n",
    "rf2['Year']=rf2['Date'].dt.year\n",
    "rf2['Month']=rf2['Date'].dt.month\n",
    "rf3=rf2[['Year','Month','rf']].groupby(['Year','Month'], as_index=False).mean()"
   ]
  },
  {
   "cell_type": "code",
   "execution_count": 9,
   "metadata": {},
   "outputs": [],
   "source": [
    "#Import benchmark index return\n",
    "indexret1=pd.read_stata(\"/Users/jimmyaspras/Downloads/Index return.dta\")\n",
    "#Import factors data\n",
    "Factor=pd.read_excel(\"/Users/jimmyaspras/Downloads/Factors.xlsx\")"
   ]
  },
  {
   "cell_type": "code",
   "execution_count": 10,
   "metadata": {},
   "outputs": [],
   "source": [
    "#Build a neural network model. Give your own values for the number of hidden layers, epochs, batch  size,  the  \n",
    "#number  of  neurons  in  each  hidden  layer,  and  other  hyperparameters.  Run permutation_importance  and  \n",
    "#report  the  feature  importance  graph  (You  could  report  either  the original graph based on mean squared \n",
    "#error-MSE or the scaled graph).\n",
    "def deepnetwork():\n",
    "    model = Sequential()\n",
    "    model.add(Dense(15, kernel_initializer='uniform', activation='relu'))\n",
    "    model.add(Dense(75, kernel_initializer='uniform', activation='relu'))\n",
    "    model.add(Dense(63, kernel_initializer='uniform', activation='relu'))\n",
    "    model.add(Dense(52, kernel_initializer='uniform', activation='relu'))\n",
    "    model.add(Dense(27, kernel_initializer='uniform', activation='relu'))\n",
    "    model.add(Dense(86, kernel_initializer='uniform', activation='relu'))\n",
    "    model.add(Dense(78, kernel_initializer='uniform', activation='relu'))\n",
    "    model.add(Dense(1))\n",
    "    model.compile(loss='mean_squared_error',optimizer='Adam')\n",
    "    return model"
   ]
  },
  {
   "cell_type": "code",
   "execution_count": 11,
   "metadata": {},
   "outputs": [
    {
     "name": "stdout",
     "output_type": "stream",
     "text": [
      "Epoch 1/30\n",
      "14/14 [==============================] - 5s 233ms/step - loss: 102.2800\n",
      "Epoch 2/30\n",
      "14/14 [==============================] - 2s 148ms/step - loss: 1.0098\n",
      "Epoch 3/30\n",
      "14/14 [==============================] - 4s 257ms/step - loss: 0.2463\n",
      "Epoch 4/30\n",
      "14/14 [==============================] - 2s 139ms/step - loss: 0.1558\n",
      "Epoch 5/30\n",
      "14/14 [==============================] - 2s 121ms/step - loss: 0.1606\n",
      "Epoch 6/30\n",
      "14/14 [==============================] - 2s 121ms/step - loss: 0.6311\n",
      "Epoch 7/30\n",
      "14/14 [==============================] - 2s 130ms/step - loss: 0.3205\n",
      "Epoch 8/30\n",
      "14/14 [==============================] - 2s 152ms/step - loss: 0.1402\n",
      "Epoch 9/30\n",
      "14/14 [==============================] - 5s 349ms/step - loss: 0.0334\n",
      "Epoch 10/30\n",
      "14/14 [==============================] - 3s 217ms/step - loss: 0.0310\n",
      "Epoch 11/30\n",
      "14/14 [==============================] - 4s 288ms/step - loss: 0.0239\n",
      "Epoch 12/30\n",
      "14/14 [==============================] - 4s 260ms/step - loss: 0.0205\n",
      "Epoch 13/30\n",
      "14/14 [==============================] - 3s 187ms/step - loss: 0.0198\n",
      "Epoch 14/30\n",
      "14/14 [==============================] - 3s 184ms/step - loss: 0.0195\n",
      "Epoch 15/30\n",
      "14/14 [==============================] - 2s 155ms/step - loss: 0.0197\n",
      "Epoch 16/30\n",
      "14/14 [==============================] - 4s 301ms/step - loss: 0.0197\n",
      "Epoch 17/30\n",
      "14/14 [==============================] - 5s 351ms/step - loss: 0.0196\n",
      "Epoch 18/30\n",
      "14/14 [==============================] - 3s 243ms/step - loss: 0.0194\n",
      "Epoch 19/30\n",
      "14/14 [==============================] - 2s 153ms/step - loss: 0.0194\n",
      "Epoch 20/30\n",
      "14/14 [==============================] - 1s 103ms/step - loss: 0.0195\n",
      "Epoch 21/30\n",
      "14/14 [==============================] - 1s 100ms/step - loss: 0.0194\n",
      "Epoch 22/30\n",
      "14/14 [==============================] - 1s 103ms/step - loss: 0.0193\n",
      "Epoch 23/30\n",
      "14/14 [==============================] - 1s 96ms/step - loss: 0.0194\n",
      "Epoch 24/30\n",
      "14/14 [==============================] - 2s 155ms/step - loss: 0.0196\n",
      "Epoch 25/30\n",
      "14/14 [==============================] - 1s 103ms/step - loss: 0.0212\n",
      "Epoch 26/30\n",
      "14/14 [==============================] - 1s 98ms/step - loss: 0.0208\n",
      "Epoch 27/30\n",
      "14/14 [==============================] - 2s 112ms/step - loss: 0.0198\n",
      "Epoch 28/30\n",
      "14/14 [==============================] - 2s 122ms/step - loss: 0.0194\n",
      "Epoch 29/30\n",
      "14/14 [==============================] - 2s 138ms/step - loss: 0.0196\n",
      "Epoch 30/30\n",
      "14/14 [==============================] - 2s 128ms/step - loss: 0.0200\n"
     ]
    },
    {
     "data": {
      "text/plain": [
       "<tensorflow.python.keras.callbacks.History at 0x7f916f44df70>"
      ]
     },
     "execution_count": 11,
     "metadata": {},
     "output_type": "execute_result"
    }
   ],
   "source": [
    "model=KerasRegressor(build_fn=deepnetwork)\n",
    "model.fit(X_train,Y_train,epochs=30,batch_size=40000,verbose=1)"
   ]
  },
  {
   "cell_type": "code",
   "execution_count": 12,
   "metadata": {},
   "outputs": [],
   "source": [
    "FIM=permutation_importance(model,X_train,Y_train,n_repeats=3,scoring='neg_mean_squared_error')"
   ]
  },
  {
   "cell_type": "code",
   "execution_count": 13,
   "metadata": {},
   "outputs": [],
   "source": [
    "FIM_score_mean=pd.DataFrame(FIM.importances_mean,columns=['Feature Importance'])\n",
    "FIM_score_std=pd.DataFrame(FIM.importances_std,columns=['Feature Importance_std'])\n",
    "FIM_score=pd.merge(FIM_score_mean,FIM_score_std,left_index=True,right_index=True)\n",
    "FIM_score['Feature']=X_test.columns.tolist()\n",
    "FIM_score.sort_values(by=['Feature Importance'],inplace=True)"
   ]
  },
  {
   "cell_type": "code",
   "execution_count": 14,
   "metadata": {},
   "outputs": [
    {
     "data": {
      "text/plain": [
       "<AxesSubplot:title={'center':'Feature Importance'}, ylabel='Feature'>"
      ]
     },
     "execution_count": 14,
     "metadata": {},
     "output_type": "execute_result"
    },
    {
     "data": {
      "image/png": "[encoded data removed]",
      "text/plain": [
       "<Figure size 1440x1080 with 1 Axes>"
      ]
     },
     "metadata": {
      "needs_background": "light"
     },
     "output_type": "display_data"
    }
   ],
   "source": [
    "FIM_score.plot(kind=\"barh\",x='Feature',y='Feature Importance',title=\"Feature Importance\",xerr='Feature Importance_std',fontsize=25,color='red')"
   ]
  },
  {
   "cell_type": "code",
   "execution_count": 15,
   "metadata": {},
   "outputs": [],
   "source": [
    "FIM_score['benchmark']=FIM_score['Feature Importance'].max()\n",
    "FIM_score['Feature Importance%']=FIM_score['Feature Importance']/FIM_score['benchmark']"
   ]
  },
  {
   "cell_type": "code",
   "execution_count": 16,
   "metadata": {},
   "outputs": [
    {
     "data": {
      "text/plain": [
       "<AxesSubplot:title={'center':'Feature Importance'}, ylabel='Feature'>"
      ]
     },
     "execution_count": 16,
     "metadata": {},
     "output_type": "execute_result"
    },
    {
     "data": {
      "image/png": "[encoded data removed]",
      "text/plain": [
       "<Figure size 1440x1080 with 1 Axes>"
      ]
     },
     "metadata": {
      "needs_background": "light"
     },
     "output_type": "display_data"
    }
   ],
   "source": [
    "FIM_score.plot(kind=\"barh\",x='Feature',y='Feature Importance%',title=\"Feature Importance\",fontsize=20,color='red')"
   ]
  },
  {
   "cell_type": "code",
   "execution_count": 17,
   "metadata": {},
   "outputs": [],
   "source": [
    "#Use Random forest, Extra tree, HistGradientBoostingRegressor, and Neural network to do the model  ensemble.  \n",
    "#Give  your  own  values  for  the  hyperparameters  in  these  four  models.  Use  the average of the predictions \n",
    "#of these four models as the final prediction on stock returns. Train this model ensemble using your new training \n",
    "#sample. And use this model ensemble to predict returns based on your new testing sample. Report the average \n",
    "#return of the portfolio that consists of the 100 stocks with the highest predicted returns in each year-month. \n",
    "#Also, report the Sharpe ratio of the portfolio.  "
   ]
  },
  {
   "cell_type": "code",
   "execution_count": 18,
   "metadata": {},
   "outputs": [
    {
     "data": {
      "text/plain": [
       "RandomForestRegressor(max_samples=0.5, min_samples_leaf=120, n_estimators=120,\n",
       "                      n_jobs=-1)"
      ]
     },
     "execution_count": 18,
     "metadata": {},
     "output_type": "execute_result"
    }
   ],
   "source": [
    "#Random forest\n",
    "Randomforestensemble=RandomForestRegressor(n_estimators=120,min_samples_leaf=120,bootstrap=True,\n",
    "                                           max_samples=0.5,n_jobs=-1)\n",
    "Randomforestensemble.fit(X_train,Y_train.values.ravel())"
   ]
  },
  {
   "cell_type": "code",
   "execution_count": 19,
   "metadata": {},
   "outputs": [
    {
     "data": {
      "text/plain": [
       "ExtraTreesRegressor(bootstrap=True, max_samples=0.5, min_samples_leaf=120,\n",
       "                    n_estimators=120, n_jobs=-1)"
      ]
     },
     "execution_count": 19,
     "metadata": {},
     "output_type": "execute_result"
    }
   ],
   "source": [
    "#Extra tree\n",
    "ExTensemble= ExtraTreesRegressor(n_estimators=120,min_samples_leaf=120,bootstrap=True,max_samples=0.5,n_jobs=-1)\n",
    "ExTensemble.fit(X_train,Y_train.values.ravel())"
   ]
  },
  {
   "cell_type": "code",
   "execution_count": 20,
   "metadata": {},
   "outputs": [
    {
     "data": {
      "text/plain": [
       "HistGradientBoostingRegressor(early_stopping='False', max_iter=120,\n",
       "                              min_samples_leaf=120)"
      ]
     },
     "execution_count": 20,
     "metadata": {},
     "output_type": "execute_result"
    }
   ],
   "source": [
    "#Histgradient\n",
    "HGBRensemble= HistGradientBoostingRegressor(max_iter=120,min_samples_leaf=120,early_stopping='False')     \n",
    "HGBRensemble.fit(X_train,Y_train.values.ravel())"
   ]
  },
  {
   "cell_type": "code",
   "execution_count": 21,
   "metadata": {},
   "outputs": [],
   "source": [
    "#Neural net\n",
    "def deepnetworkensemble():\n",
    "    model = Sequential()\n",
    "    model.add(Dense(75, kernel_initializer='uniform', activation='relu'))\n",
    "    model.add(Dense(75, kernel_initializer='uniform', activation='relu'))\n",
    "    model.add(Dense(75, kernel_initializer='uniform', activation='relu'))\n",
    "    model.add(Dense(75, kernel_initializer='uniform', activation='relu'))\n",
    "    model.add(Dense(75, kernel_initializer='uniform', activation='relu'))\n",
    "    model.add(Dense(75, kernel_initializer='uniform', activation='relu'))\n",
    "    model.add(Dense(75, kernel_initializer='uniform', activation='relu'))\n",
    "    model.add(Dense(1))\n",
    "    model.compile(loss='mean_squared_error',optimizer='Adam')\n",
    "    return model"
   ]
  },
  {
   "cell_type": "code",
   "execution_count": 22,
   "metadata": {},
   "outputs": [
    {
     "name": "stdout",
     "output_type": "stream",
     "text": [
      "Epoch 1/25\n",
      "14/14 [==============================] - 3s 115ms/step - loss: 4723.6641\n",
      "Epoch 2/25\n",
      "14/14 [==============================] - 2s 120ms/step - loss: 104.0704\n",
      "Epoch 3/25\n",
      "14/14 [==============================] - 2s 118ms/step - loss: 6.1783\n",
      "Epoch 4/25\n",
      "14/14 [==============================] - 2s 141ms/step - loss: 0.7560\n",
      "Epoch 5/25\n",
      "14/14 [==============================] - 2s 134ms/step - loss: 0.4245\n",
      "Epoch 6/25\n",
      "14/14 [==============================] - 2s 120ms/step - loss: 0.1436\n",
      "Epoch 7/25\n",
      "14/14 [==============================] - 2s 121ms/step - loss: 0.0685\n",
      "Epoch 8/25\n",
      "14/14 [==============================] - 2s 120ms/step - loss: 0.0585\n",
      "Epoch 9/25\n",
      "14/14 [==============================] - 2s 120ms/step - loss: 0.0741\n",
      "Epoch 10/25\n",
      "14/14 [==============================] - 2s 119ms/step - loss: 0.0578\n",
      "Epoch 11/25\n",
      "14/14 [==============================] - 2s 121ms/step - loss: 0.0595\n",
      "Epoch 12/25\n",
      "14/14 [==============================] - 2s 117ms/step - loss: 0.0738\n",
      "Epoch 13/25\n",
      "14/14 [==============================] - 2s 120ms/step - loss: 0.1433\n",
      "Epoch 14/25\n",
      "14/14 [==============================] - 2s 120ms/step - loss: 0.0741\n",
      "Epoch 15/25\n",
      "14/14 [==============================] - 2s 121ms/step - loss: 0.0526\n",
      "Epoch 16/25\n",
      "14/14 [==============================] - 2s 121ms/step - loss: 0.0811\n",
      "Epoch 17/25\n",
      "14/14 [==============================] - 2s 122ms/step - loss: 0.2418\n",
      "Epoch 18/25\n",
      "14/14 [==============================] - 2s 120ms/step - loss: 0.1328\n",
      "Epoch 19/25\n",
      "14/14 [==============================] - 2s 121ms/step - loss: 0.1014\n",
      "Epoch 20/25\n",
      "14/14 [==============================] - 2s 120ms/step - loss: 0.0651\n",
      "Epoch 21/25\n",
      "14/14 [==============================] - 2s 122ms/step - loss: 0.0624\n",
      "Epoch 22/25\n",
      "14/14 [==============================] - 2s 121ms/step - loss: 0.0861\n",
      "Epoch 23/25\n",
      "14/14 [==============================] - 2s 122ms/step - loss: 0.0520\n",
      "Epoch 24/25\n",
      "14/14 [==============================] - 2s 121ms/step - loss: 0.0440\n",
      "Epoch 25/25\n",
      "14/14 [==============================] - 2s 125ms/step - loss: 0.0405\n"
     ]
    },
    {
     "data": {
      "text/plain": [
       "<tensorflow.python.keras.callbacks.History at 0x7f90af701eb0>"
      ]
     },
     "execution_count": 22,
     "metadata": {},
     "output_type": "execute_result"
    }
   ],
   "source": [
    "Deepnetworkensemble=deepnetworkensemble()\n",
    "Deepnetworkensemble.fit(X_train,Y_train,epochs=25,batch_size=40000,verbose=1)"
   ]
  },
  {
   "cell_type": "code",
   "execution_count": 23,
   "metadata": {},
   "outputs": [],
   "source": [
    "#Predictions\n",
    "Y_predict_Randomforestensemble=pd.DataFrame(Randomforestensemble.predict(X_test),columns=['Y_predict_Randomforestensemble'])\n",
    "Y_predict_ExTensemble=pd.DataFrame(ExTensemble.predict(X_test),columns=['Y_predict_ExTensemble'])\n",
    "Y_predict_HGBRensemble=pd.DataFrame(HGBRensemble.predict(X_test),columns=['Y_predict_HGBRensemble'])\n",
    "Y_predict_Deepnetworkensemble=pd.DataFrame(Deepnetworkensemble.predict(X_test),columns=['Y_predict_Deepnetworkensemble'])"
   ]
  },
  {
   "cell_type": "code",
   "execution_count": 24,
   "metadata": {},
   "outputs": [],
   "source": [
    "#Prediction merge\n",
    "Y_predict1=pd.merge(Y_predict_HGBRensemble,Y_predict_Deepnetworkensemble,left_index=True,right_index=True)\n",
    "Y_predict2=pd.merge(Y_predict1,Y_predict_ExTensemble,left_index=True,right_index=True)\n",
    "Y_predict3=pd.merge(Y_predict2,Y_predict_Randomforestensemble,left_index=True,right_index=True)"
   ]
  },
  {
   "cell_type": "code",
   "execution_count": 25,
   "metadata": {},
   "outputs": [],
   "source": [
    "#AVG predicted return\n",
    "Y_predict3['Y_predict']=Y_predict3.mean(1)"
   ]
  },
  {
   "cell_type": "code",
   "execution_count": 26,
   "metadata": {},
   "outputs": [
    {
     "data": {
      "text/html": [
       "<table class=\"simpletable\">\n",
       "<caption>OLS Regression Results</caption>\n",
       "<tr>\n",
       "  <th>Dep. Variable:</th>           <td>ret</td>       <th>  R-squared:         </th> <td>   0.000</td>\n",
       "</tr>\n",
       "<tr>\n",
       "  <th>Model:</th>                   <td>OLS</td>       <th>  Adj. R-squared:    </th> <td>   0.000</td>\n",
       "</tr>\n",
       "<tr>\n",
       "  <th>Method:</th>             <td>Least Squares</td>  <th>  F-statistic:       </th> <td>     nan</td>\n",
       "</tr>\n",
       "<tr>\n",
       "  <th>Date:</th>             <td>Wed, 18 Aug 2021</td> <th>  Prob (F-statistic):</th>  <td>   nan</td> \n",
       "</tr>\n",
       "<tr>\n",
       "  <th>Time:</th>                 <td>13:39:49</td>     <th>  Log-Likelihood:    </th> <td>  31.382</td>\n",
       "</tr>\n",
       "<tr>\n",
       "  <th>No. Observations:</th>      <td>    64</td>      <th>  AIC:               </th> <td>  -60.76</td>\n",
       "</tr>\n",
       "<tr>\n",
       "  <th>Df Residuals:</th>          <td>    63</td>      <th>  BIC:               </th> <td>  -58.61</td>\n",
       "</tr>\n",
       "<tr>\n",
       "  <th>Df Model:</th>              <td>     0</td>      <th>                     </th>     <td> </td>   \n",
       "</tr>\n",
       "<tr>\n",
       "  <th>Covariance Type:</th>         <td>HC0</td>       <th>                     </th>     <td> </td>   \n",
       "</tr>\n",
       "</table>\n",
       "<table class=\"simpletable\">\n",
       "<tr>\n",
       "    <td></td>       <th>coef</th>     <th>std err</th>      <th>t</th>      <th>P>|t|</th>  <th>[0.025</th>    <th>0.975]</th>  \n",
       "</tr>\n",
       "<tr>\n",
       "  <th>const</th> <td>    0.3561</td> <td>    0.019</td> <td>   19.223</td> <td> 0.000</td> <td>    0.319</td> <td>    0.393</td>\n",
       "</tr>\n",
       "</table>\n",
       "<table class=\"simpletable\">\n",
       "<tr>\n",
       "  <th>Omnibus:</th>       <td>31.496</td> <th>  Durbin-Watson:     </th> <td>   1.403</td>\n",
       "</tr>\n",
       "<tr>\n",
       "  <th>Prob(Omnibus):</th> <td> 0.000</td> <th>  Jarque-Bera (JB):  </th> <td>  63.217</td>\n",
       "</tr>\n",
       "<tr>\n",
       "  <th>Skew:</th>          <td> 1.661</td> <th>  Prob(JB):          </th> <td>1.87e-14</td>\n",
       "</tr>\n",
       "<tr>\n",
       "  <th>Kurtosis:</th>      <td> 6.560</td> <th>  Cond. No.          </th> <td>    1.00</td>\n",
       "</tr>\n",
       "</table><br/><br/>Warnings:<br/>[1] Standard Errors are heteroscedasticity robust (HC0)"
      ],
      "text/plain": [
       "<class 'statsmodels.iolib.summary.Summary'>\n",
       "\"\"\"\n",
       "                            OLS Regression Results                            \n",
       "==============================================================================\n",
       "Dep. Variable:                    ret   R-squared:                       0.000\n",
       "Model:                            OLS   Adj. R-squared:                  0.000\n",
       "Method:                 Least Squares   F-statistic:                       nan\n",
       "Date:                Wed, 18 Aug 2021   Prob (F-statistic):                nan\n",
       "Time:                        13:39:49   Log-Likelihood:                 31.382\n",
       "No. Observations:                  64   AIC:                            -60.76\n",
       "Df Residuals:                      63   BIC:                            -58.61\n",
       "Df Model:                           0                                         \n",
       "Covariance Type:                  HC0                                         \n",
       "==============================================================================\n",
       "                 coef    std err          t      P>|t|      [0.025      0.975]\n",
       "------------------------------------------------------------------------------\n",
       "const          0.3561      0.019     19.223      0.000       0.319       0.393\n",
       "==============================================================================\n",
       "Omnibus:                       31.496   Durbin-Watson:                   1.403\n",
       "Prob(Omnibus):                  0.000   Jarque-Bera (JB):               63.217\n",
       "Skew:                           1.661   Prob(JB):                     1.87e-14\n",
       "Kurtosis:                       6.560   Cond. No.                         1.00\n",
       "==============================================================================\n",
       "\n",
       "Warnings:\n",
       "[1] Standard Errors are heteroscedasticity robust (HC0)\n",
       "\"\"\""
      ]
     },
     "execution_count": 26,
     "metadata": {},
     "output_type": "execute_result"
    }
   ],
   "source": [
    "#Merge predicted and actual, select 100 best performing, determine performance\n",
    "Y_test1=pd.DataFrame(Y_test).reset_index()\n",
    "Comb1=pd.merge(Y_test1,Y_predict3,left_index=True,right_index=True,how='inner')\n",
    "Comb1['Year']=Comb1['datadate'].dt.year\n",
    "Comb1['Month']=Comb1['datadate'].dt.month\n",
    "rank1=Comb1[['Y_predict','Year', 'Month']].groupby(['Year','Month'],as_index=False).rank(ascending=False)\n",
    "rank1.rename(columns={'Y_predict':'Y_predict_rank'},inplace=True)\n",
    "stock_long1=pd.merge(Comb1,rank1,left_index=True, right_index=True)\n",
    "stock_long2=stock_long1[stock_long1['Y_predict_rank']<=100]\n",
    "stock_long2['datadate'].value_counts()\n",
    "stock_long3=stock_long2[['ret','Year','Month']].groupby(['Year','Month']).mean()\n",
    "stock_long4=pd.merge(stock_long3, rf3, left_on=['Year','Month'], right_on=['Year','Month'], how='left')\n",
    "stock_long5=pd.merge(stock_long4, indexret1, left_on=['Year','Month'], right_on=['Year','Month'], how='left')\n",
    "stock_long5['ret_rf']=stock_long5['ret']-stock_long5['rf']\n",
    "stock_long5['ret_sp500']=stock_long5['ret']-stock_long5['sp500_ret_m']\n",
    "stock_long5=sm.add_constant(stock_long5)\n",
    "sm.OLS(stock_long5[['ret']],stock_long5[['const']]).fit().get_robustcov_results(cov_type='HC0').summary()"
   ]
  },
  {
   "cell_type": "code",
   "execution_count": 27,
   "metadata": {},
   "outputs": [
    {
     "data": {
      "text/plain": [
       "ret_rf    8.223031\n",
       "dtype: float64"
      ]
     },
     "execution_count": 27,
     "metadata": {},
     "output_type": "execute_result"
    }
   ],
   "source": [
    "#Sharpe ratio\n",
    "Ret_rf=stock_long5[['ret_rf']]\n",
    "SRavgensemble=(Ret_rf.mean()/Ret_rf.std())*np.sqrt(12)\n",
    "SRavgensemble"
   ]
  },
  {
   "cell_type": "code",
   "execution_count": 28,
   "metadata": {},
   "outputs": [],
   "source": [
    "#Use Random forest, Extra tree, HistGradientBoostingRegressor, and Neural network to do the model  ensemble.  \n",
    "#Give  your  own  values  for  the  hyperparameters  in  the  four  models.  Choose  a linear machine learning \n",
    "#model as the final model to combine the predictions of the four models. Train this model ensemble using your new \n",
    "#training sample. And use this model ensemble to predict returns based on your new testing sample. Report the \n",
    "#average return of the portfolio that consists of the 100 stocks with the highest predicted returns in each \n",
    "#year-month. Also, report the Sharpe ratio of the portfolio. "
   ]
  },
  {
   "cell_type": "code",
   "execution_count": 29,
   "metadata": {},
   "outputs": [
    {
     "data": {
      "text/plain": [
       "RandomForestRegressor(max_samples=0.5, min_samples_leaf=120, n_estimators=120,\n",
       "                      n_jobs=-1)"
      ]
     },
     "execution_count": 29,
     "metadata": {},
     "output_type": "execute_result"
    }
   ],
   "source": [
    "#Random forest\n",
    "Randomforestensemble1=RandomForestRegressor(n_estimators=120,min_samples_leaf=120,bootstrap=True,\n",
    "                                           max_samples=0.5,n_jobs=-1)\n",
    "Randomforestensemble1.fit(X_train,Y_train.values.ravel())"
   ]
  },
  {
   "cell_type": "code",
   "execution_count": 30,
   "metadata": {},
   "outputs": [
    {
     "data": {
      "text/plain": [
       "ExtraTreesRegressor(bootstrap=True, max_samples=0.5, min_samples_leaf=120,\n",
       "                    n_estimators=120, n_jobs=-1)"
      ]
     },
     "execution_count": 30,
     "metadata": {},
     "output_type": "execute_result"
    }
   ],
   "source": [
    "#Extra tree\n",
    "ExTensemble1= ExtraTreesRegressor(n_estimators=120,min_samples_leaf=120,bootstrap=True,max_samples=0.5,n_jobs=-1)\n",
    "ExTensemble1.fit(X_train,Y_train.values.ravel())"
   ]
  },
  {
   "cell_type": "code",
   "execution_count": 31,
   "metadata": {},
   "outputs": [
    {
     "data": {
      "text/plain": [
       "HistGradientBoostingRegressor(early_stopping='False', max_iter=120,\n",
       "                              min_samples_leaf=120)"
      ]
     },
     "execution_count": 31,
     "metadata": {},
     "output_type": "execute_result"
    }
   ],
   "source": [
    "#Histgradient\n",
    "HGBRensemble1= HistGradientBoostingRegressor(max_iter=120,min_samples_leaf=120,early_stopping='False')     \n",
    "HGBRensemble1.fit(X_train,Y_train.values.ravel())"
   ]
  },
  {
   "cell_type": "code",
   "execution_count": 32,
   "metadata": {},
   "outputs": [],
   "source": [
    "#Neural net\n",
    "def deepnetworkensemble1():\n",
    "    model = Sequential()\n",
    "    model.add(Dense(75, kernel_initializer='uniform', activation='relu'))\n",
    "    model.add(Dense(75, kernel_initializer='uniform', activation='relu'))\n",
    "    model.add(Dense(75, kernel_initializer='uniform', activation='relu'))\n",
    "    model.add(Dense(75, kernel_initializer='uniform', activation='relu'))\n",
    "    model.add(Dense(75, kernel_initializer='uniform', activation='relu'))\n",
    "    model.add(Dense(75, kernel_initializer='uniform', activation='relu'))\n",
    "    model.add(Dense(75, kernel_initializer='uniform', activation='relu'))\n",
    "    model.add(Dense(1))\n",
    "    model.compile(loss='mean_squared_error',optimizer='Adam')\n",
    "    return model"
   ]
  },
  {
   "cell_type": "code",
   "execution_count": 33,
   "metadata": {},
   "outputs": [
    {
     "name": "stdout",
     "output_type": "stream",
     "text": [
      "Epoch 1/25\n",
      "14/14 [==============================] - 4s 214ms/step - loss: 3364.5740\n",
      "Epoch 2/25\n",
      "14/14 [==============================] - 2s 166ms/step - loss: 77.9948\n",
      "Epoch 3/25\n",
      "14/14 [==============================] - 2s 165ms/step - loss: 44.6015\n",
      "Epoch 4/25\n",
      "14/14 [==============================] - 2s 135ms/step - loss: 26.2892\n",
      "Epoch 5/25\n",
      "14/14 [==============================] - 2s 133ms/step - loss: 3.9121\n",
      "Epoch 6/25\n",
      "14/14 [==============================] - 2s 137ms/step - loss: 3.3240\n",
      "Epoch 7/25\n",
      "14/14 [==============================] - 2s 135ms/step - loss: 3.2912\n",
      "Epoch 8/25\n",
      "14/14 [==============================] - 2s 134ms/step - loss: 1.4552\n",
      "Epoch 9/25\n",
      "14/14 [==============================] - 2s 133ms/step - loss: 0.2907\n",
      "Epoch 10/25\n",
      "14/14 [==============================] - 2s 141ms/step - loss: 0.1863\n",
      "Epoch 11/25\n",
      "14/14 [==============================] - 2s 141ms/step - loss: 0.1036\n",
      "Epoch 12/25\n",
      "14/14 [==============================] - 2s 144ms/step - loss: 0.1060\n",
      "Epoch 13/25\n",
      "14/14 [==============================] - 2s 134ms/step - loss: 0.1274\n",
      "Epoch 14/25\n",
      "14/14 [==============================] - 2s 136ms/step - loss: 0.2470\n",
      "Epoch 15/25\n",
      "14/14 [==============================] - 2s 139ms/step - loss: 0.0564\n",
      "Epoch 16/25\n",
      "14/14 [==============================] - 2s 136ms/step - loss: 0.0397\n",
      "Epoch 17/25\n",
      "14/14 [==============================] - 2s 133ms/step - loss: 0.0465\n",
      "Epoch 18/25\n",
      "14/14 [==============================] - 2s 136ms/step - loss: 0.0312\n",
      "Epoch 19/25\n",
      "14/14 [==============================] - 2s 136ms/step - loss: 0.0337\n",
      "Epoch 20/25\n",
      "14/14 [==============================] - 2s 139ms/step - loss: 0.0348\n",
      "Epoch 21/25\n",
      "14/14 [==============================] - 2s 135ms/step - loss: 0.0282\n",
      "Epoch 22/25\n",
      "14/14 [==============================] - 2s 132ms/step - loss: 0.0286\n",
      "Epoch 23/25\n",
      "14/14 [==============================] - 2s 151ms/step - loss: 0.0251\n",
      "Epoch 24/25\n",
      "14/14 [==============================] - 2s 141ms/step - loss: 0.0280\n",
      "Epoch 25/25\n",
      "14/14 [==============================] - 2s 133ms/step - loss: 0.0260\n"
     ]
    },
    {
     "data": {
      "text/plain": [
       "<tensorflow.python.keras.callbacks.History at 0x7f90b1931100>"
      ]
     },
     "execution_count": 33,
     "metadata": {},
     "output_type": "execute_result"
    }
   ],
   "source": [
    "Deepnetworkensemble1=deepnetworkensemble1()\n",
    "Deepnetworkensemble1.fit(X_train,Y_train,epochs=25,batch_size=40000,verbose=1)"
   ]
  },
  {
   "cell_type": "code",
   "execution_count": 34,
   "metadata": {},
   "outputs": [],
   "source": [
    "#Predictions\n",
    "Y_train_Randomforestensemble1=pd.DataFrame(Randomforestensemble1.predict(X_test),columns=['Y_predict_Randomforestensemble1'])\n",
    "Y_train_ExTensemble1=pd.DataFrame(ExTensemble1.predict(X_test),columns=['Y_predict_ExTensemble1'])\n",
    "Y_train_HGBRensemble1=pd.DataFrame(HGBRensemble1.predict(X_test),columns=['Y_predict_HGBRensemble1'])\n",
    "Y_train_Deepnetworkensemble1=pd.DataFrame(Deepnetworkensemble1.predict(X_test),columns=['Y_predict_Deepnetworkensemble1'])"
   ]
  },
  {
   "cell_type": "code",
   "execution_count": 35,
   "metadata": {},
   "outputs": [],
   "source": [
    "#Prediction merge\n",
    "Y_train1=pd.merge(Y_train_HGBRensemble1,Y_train_Deepnetworkensemble1,left_index=True,right_index=True)\n",
    "Y_train2=pd.merge(Y_train1,Y_train_ExTensemble1,left_index=True,right_index=True)\n",
    "Y_train3=pd.merge(Y_train2,Y_train_Randomforestensemble1,left_index=True,right_index=True)\n",
    "Y_train_new=pd.DataFrame(Y_train).reset_index()\n",
    "Y_train4=pd.merge(Y_train3,Y_train_new,left_index=True,right_index=True)"
   ]
  },
  {
   "cell_type": "code",
   "execution_count": 36,
   "metadata": {},
   "outputs": [],
   "source": [
    "tsplit=TimeSeriesSplit(n_splits=10,test_size=10000, gap=5000)"
   ]
  },
  {
   "cell_type": "code",
   "execution_count": 38,
   "metadata": {},
   "outputs": [],
   "source": [
    "from sklearn.linear_model import RidgeCV"
   ]
  },
  {
   "cell_type": "code",
   "execution_count": 39,
   "metadata": {},
   "outputs": [],
   "source": [
    "alpha_candidate=np.linspace(0.001,10,20)\n",
    "finalmodel=RidgeCV(alphas=alpha_candidate,cv=tsplit)"
   ]
  },
  {
   "cell_type": "code",
   "execution_count": 40,
   "metadata": {},
   "outputs": [
    {
     "data": {
      "text/plain": [
       "RidgeCV(alphas=array([1.00000000e-03, 5.27263158e-01, 1.05352632e+00, 1.57978947e+00,\n",
       "       2.10605263e+00, 2.63231579e+00, 3.15857895e+00, 3.68484211e+00,\n",
       "       4.21110526e+00, 4.73736842e+00, 5.26363158e+00, 5.78989474e+00,\n",
       "       6.31615789e+00, 6.84242105e+00, 7.36868421e+00, 7.89494737e+00,\n",
       "       8.42121053e+00, 8.94747368e+00, 9.47373684e+00, 1.00000000e+01]),\n",
       "        cv=TimeSeriesSplit(gap=5000, max_train_size=None, n_splits=10, test_size=10000))"
      ]
     },
     "execution_count": 40,
     "metadata": {},
     "output_type": "execute_result"
    }
   ],
   "source": [
    "finalmodel.fit(Y_train4[['Y_predict_HGBRensemble1','Y_predict_Deepnetworkensemble1','Y_predict_ExTensemble1',\n",
    "                          'Y_predict_Randomforestensemble1']],Y_train4['ret'])"
   ]
  },
  {
   "cell_type": "code",
   "execution_count": 43,
   "metadata": {},
   "outputs": [
    {
     "data": {
      "text/plain": [
       "array([-0.00711704, -0.00213184, -0.02500874,  0.01057493])"
      ]
     },
     "execution_count": 43,
     "metadata": {},
     "output_type": "execute_result"
    }
   ],
   "source": [
    "finalmodel.coef_"
   ]
  },
  {
   "cell_type": "code",
   "execution_count": 44,
   "metadata": {},
   "outputs": [],
   "source": [
    "#Test sample predictions\n",
    "Y_predict_Randomforestensemble1=pd.DataFrame(Randomforestensemble1.predict(X_test), columns=['Y_predict_Randomforestensemble1'])\n",
    "Y_predict_ExTensemble1=pd.DataFrame(ExTensemble1.predict(X_test),columns=['Y_predict_ExTensemble1'])\n",
    "Y_predict_HGBRensemble1=pd.DataFrame(HGBRensemble1.predict(X_test),columns=['Y_predict_HGBRensemble1'])\n",
    "Y_predict_Deepnetworkensemble1=pd.DataFrame(Deepnetworkensemble1.predict(X_test),columns=['Y_predict_Deepnetworkensemble1'])"
   ]
  },
  {
   "cell_type": "code",
   "execution_count": 45,
   "metadata": {},
   "outputs": [],
   "source": [
    "#Predictions merge\n",
    "Y_predict1=pd.merge(Y_predict_HGBRensemble1,Y_predict_Deepnetworkensemble1,left_index=True,right_index=True)\n",
    "Y_predict2=pd.merge(Y_predict1,Y_predict_ExTensemble1,left_index=True,right_index=True)\n",
    "Y_predict3=pd.merge(Y_predict2,Y_predict_Randomforestensemble1,left_index=True,right_index=True)"
   ]
  },
  {
   "cell_type": "code",
   "execution_count": 46,
   "metadata": {},
   "outputs": [],
   "source": [
    "#Final predictions\n",
    "Y_predict3['Y_predict']=finalmodel.predict(Y_predict3[['Y_predict_HGBRensemble1','Y_predict_Deepnetworkensemble1',\n",
    "                                                       'Y_predict_ExTensemble1','Y_predict_Randomforestensemble1']])"
   ]
  },
  {
   "cell_type": "code",
   "execution_count": 47,
   "metadata": {},
   "outputs": [
    {
     "data": {
      "text/html": [
       "<table class=\"simpletable\">\n",
       "<caption>OLS Regression Results</caption>\n",
       "<tr>\n",
       "  <th>Dep. Variable:</th>           <td>ret</td>       <th>  R-squared:         </th> <td>   0.000</td>\n",
       "</tr>\n",
       "<tr>\n",
       "  <th>Model:</th>                   <td>OLS</td>       <th>  Adj. R-squared:    </th> <td>   0.000</td>\n",
       "</tr>\n",
       "<tr>\n",
       "  <th>Method:</th>             <td>Least Squares</td>  <th>  F-statistic:       </th> <td>     nan</td>\n",
       "</tr>\n",
       "<tr>\n",
       "  <th>Date:</th>             <td>Wed, 18 Aug 2021</td> <th>  Prob (F-statistic):</th>  <td>   nan</td> \n",
       "</tr>\n",
       "<tr>\n",
       "  <th>Time:</th>                 <td>14:27:24</td>     <th>  Log-Likelihood:    </th> <td>  81.718</td>\n",
       "</tr>\n",
       "<tr>\n",
       "  <th>No. Observations:</th>      <td>    64</td>      <th>  AIC:               </th> <td>  -161.4</td>\n",
       "</tr>\n",
       "<tr>\n",
       "  <th>Df Residuals:</th>          <td>    63</td>      <th>  BIC:               </th> <td>  -159.3</td>\n",
       "</tr>\n",
       "<tr>\n",
       "  <th>Df Model:</th>              <td>     0</td>      <th>                     </th>     <td> </td>   \n",
       "</tr>\n",
       "<tr>\n",
       "  <th>Covariance Type:</th>         <td>HC0</td>       <th>                     </th>     <td> </td>   \n",
       "</tr>\n",
       "</table>\n",
       "<table class=\"simpletable\">\n",
       "<tr>\n",
       "    <td></td>       <th>coef</th>     <th>std err</th>      <th>t</th>      <th>P>|t|</th>  <th>[0.025</th>    <th>0.975]</th>  \n",
       "</tr>\n",
       "<tr>\n",
       "  <th>const</th> <td>   -0.2545</td> <td>    0.008</td> <td>  -30.172</td> <td> 0.000</td> <td>   -0.271</td> <td>   -0.238</td>\n",
       "</tr>\n",
       "</table>\n",
       "<table class=\"simpletable\">\n",
       "<tr>\n",
       "  <th>Omnibus:</th>       <td>14.377</td> <th>  Durbin-Watson:     </th> <td>   1.780</td>\n",
       "</tr>\n",
       "<tr>\n",
       "  <th>Prob(Omnibus):</th> <td> 0.001</td> <th>  Jarque-Bera (JB):  </th> <td>  16.152</td>\n",
       "</tr>\n",
       "<tr>\n",
       "  <th>Skew:</th>          <td>-1.031</td> <th>  Prob(JB):          </th> <td>0.000311</td>\n",
       "</tr>\n",
       "<tr>\n",
       "  <th>Kurtosis:</th>      <td> 4.344</td> <th>  Cond. No.          </th> <td>    1.00</td>\n",
       "</tr>\n",
       "</table><br/><br/>Warnings:<br/>[1] Standard Errors are heteroscedasticity robust (HC0)"
      ],
      "text/plain": [
       "<class 'statsmodels.iolib.summary.Summary'>\n",
       "\"\"\"\n",
       "                            OLS Regression Results                            \n",
       "==============================================================================\n",
       "Dep. Variable:                    ret   R-squared:                       0.000\n",
       "Model:                            OLS   Adj. R-squared:                  0.000\n",
       "Method:                 Least Squares   F-statistic:                       nan\n",
       "Date:                Wed, 18 Aug 2021   Prob (F-statistic):                nan\n",
       "Time:                        14:27:24   Log-Likelihood:                 81.718\n",
       "No. Observations:                  64   AIC:                            -161.4\n",
       "Df Residuals:                      63   BIC:                            -159.3\n",
       "Df Model:                           0                                         \n",
       "Covariance Type:                  HC0                                         \n",
       "==============================================================================\n",
       "                 coef    std err          t      P>|t|      [0.025      0.975]\n",
       "------------------------------------------------------------------------------\n",
       "const         -0.2545      0.008    -30.172      0.000      -0.271      -0.238\n",
       "==============================================================================\n",
       "Omnibus:                       14.377   Durbin-Watson:                   1.780\n",
       "Prob(Omnibus):                  0.001   Jarque-Bera (JB):               16.152\n",
       "Skew:                          -1.031   Prob(JB):                     0.000311\n",
       "Kurtosis:                       4.344   Cond. No.                         1.00\n",
       "==============================================================================\n",
       "\n",
       "Warnings:\n",
       "[1] Standard Errors are heteroscedasticity robust (HC0)\n",
       "\"\"\""
      ]
     },
     "execution_count": 47,
     "metadata": {},
     "output_type": "execute_result"
    }
   ],
   "source": [
    "#Merge predicted and actual\n",
    "Y_test1=pd.DataFrame(Y_test).reset_index()\n",
    "Comb1=pd.merge(Y_test1, Y_predict3, left_index=True,right_index=True,how='inner')\n",
    "Comb1['Year']=Comb1['datadate'].dt.year\n",
    "Comb1['Month']=Comb1['datadate'].dt.month\n",
    "rank1=Comb1[['Y_predict','Year', 'Month']].groupby(['Year','Month'],as_index=False).rank(ascending=False)\n",
    "rank1.rename(columns={'Y_predict':'Y_predict_rank'},inplace=True)\n",
    "stock_long1=pd.merge(Comb1,rank1,left_index=True, right_index=True)\n",
    "stock_long2=stock_long1[stock_long1['Y_predict_rank']<=100]\n",
    "stock_long2['datadate'].value_counts()\n",
    "stock_long3=stock_long2[['ret','Year','Month']].groupby(['Year','Month']).mean()\n",
    "stock_long4=pd.merge(stock_long3, rf3, left_on=['Year','Month'], right_on=['Year','Month'], how='left')\n",
    "stock_long5=pd.merge(stock_long4, indexret1, left_on=['Year','Month'], right_on=['Year','Month'], how='left')\n",
    "stock_long5['ret_rf']=stock_long5['ret']-stock_long5['rf']\n",
    "stock_long5['ret_sp500']=stock_long5['ret']-stock_long5['sp500_ret_m']\n",
    "stock_long5=sm.add_constant(stock_long5)\n",
    "sm.OLS(stock_long5[['ret']],stock_long5[['const']]).fit().get_robustcov_results(cov_type='HC0').summary()"
   ]
  },
  {
   "cell_type": "code",
   "execution_count": 48,
   "metadata": {},
   "outputs": [
    {
     "data": {
      "text/plain": [
       "ret_rf   -12.990851\n",
       "dtype: float64"
      ]
     },
     "execution_count": 48,
     "metadata": {},
     "output_type": "execute_result"
    }
   ],
   "source": [
    "#Sharpe ratio\n",
    "Ret_rf=stock_long5[['ret_rf']]\n",
    "SRlinensemble=(Ret_rf.mean()/Ret_rf.std())*np.sqrt(12)\n",
    "SRlinensemble"
   ]
  }
 ],
 "metadata": {
  "kernelspec": {
   "display_name": "Python 3",
   "language": "python",
   "name": "python3"
  },
  "language_info": {
   "codemirror_mode": {
    "name": "ipython",
    "version": 3
   },
   "file_extension": ".py",
   "mimetype": "text/x-python",
   "name": "python",
   "nbconvert_exporter": "python",
   "pygments_lexer": "ipython3",
   "version": "3.8.3"
  }
 },
 "nbformat": 4,
 "nbformat_minor": 4
}
